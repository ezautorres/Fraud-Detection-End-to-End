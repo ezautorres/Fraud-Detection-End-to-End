{
 "cells": [
  {
   "cell_type": "markdown",
   "id": "40c2b742",
   "metadata": {},
   "source": [
    "<img src=\"https://th.bing.com/th/id/R.3cd1c8dc996c5616cf6e65e20b6bf586?rik=09aaLyk4hfbBiQ&riu=http%3a%2f%2fcidics.uanl.mx%2fwp-content%2fuploads%2f2016%2f09%2fcimat.png&ehk=%2b0brgMUkA2BND22ixwLZheQrrOoYLO3o5cMRqsBOrlY%3d&risl=&pid=ImgRaw&r=0\" \n",
    "     style=\"float: right; margin-right: 30px;\" \n",
    "     width=\"120\"\n",
    "     />\n",
    "\n",
    "---\n",
    " \n",
    "# **EZAU FARIDH TORRES TORRES**\n",
    "\n",
    "     \n",
    "<p align=\"right\"> Maestría en Ciencias con Orientación en Matemáticas Aplicadas. </p>\n",
    "<p align=\"right\"> CENTRO DE INVESTIGACIÓN EN MATEMÁTICAS. </p>\n",
    "<p align=\"right\"> Fecha: 10/08/2025. </p>\n",
    "\n",
    "\n",
    "---"
   ]
  },
  {
   "cell_type": "markdown",
   "id": "357db856",
   "metadata": {},
   "source": [
    "### **Imports**"
   ]
  },
  {
   "cell_type": "code",
   "execution_count": 1,
   "id": "11e944db",
   "metadata": {},
   "outputs": [],
   "source": [
    "# !pip install scikit-learn numpy pandas\n",
    "import pandas as pd\n",
    "import numpy as np\n",
    "from pathlib import Path\n",
    "\n",
    "#pd.set_option(\"display.max_columns\", 100)\n",
    "SEED = 0"
   ]
  },
  {
   "cell_type": "code",
   "execution_count": 2,
   "id": "23c7898d",
   "metadata": {},
   "outputs": [
    {
     "name": "stdout",
     "output_type": "stream",
     "text": [
      "Shape : (5000, 30)\n",
      "Dtypes:\n",
      " ID                      object\n",
      "Month                   object\n",
      "WeekOfMonth              int64\n",
      "DayOfWeek               object\n",
      "Make                    object\n",
      "AccidentArea            object\n",
      "DayOfWeekClaimed        object\n",
      "MonthClaimed            object\n",
      "WeekOfMonthClaimed       int64\n",
      "Sex                     object\n",
      "MaritalStatus           object\n",
      "Fault                   object\n",
      "PolicyType              object\n",
      "VehicleCategory         object\n",
      "VehiclePrice            object\n",
      "FraudFound_P             int64\n",
      "Deductible               int64\n",
      "Days_Policy_Accident    object\n",
      "Days_Policy_Claim       object\n",
      "PastNumberOfClaims      object\n",
      "AgeOfVehicle            object\n",
      "AgeOfPolicyHolder       object\n",
      "PoliceReportFiled       object\n",
      "WitnessPresent          object\n",
      "AgentType               object\n",
      "NumberOfSuppliments     object\n",
      "AddressChange_Claim     object\n",
      "NumberOfCars            object\n",
      "Year                     int64\n",
      "BasePolicy              object\n",
      "dtype: object\n"
     ]
    }
   ],
   "source": [
    "path = Path(\"./data/fraud_train.csv\") # data path.\n",
    "df = pd.read_csv(path)                # read data\n",
    "print(\"Shape :\",df.shape)\n",
    "print(\"Dtypes:\\n\",df.dtypes)"
   ]
  },
  {
   "cell_type": "code",
   "execution_count": 3,
   "id": "620decff",
   "metadata": {},
   "outputs": [
    {
     "name": "stdout",
     "output_type": "stream",
     "text": [
      "ID ['CL00007646' 'CL00009711' 'CL00010809' ... 'CL00007097' 'CL00002875'\n",
      " 'CL00003330']\n",
      "Month ['Aug' 'Dec' 'Feb' 'Jun' 'Jan' 'Nov' 'Jul' 'May' 'Oct' 'Sep' 'Mar' 'Apr']\n",
      "WeekOfMonth [4 2 3 1 5]\n",
      "DayOfWeek ['Friday' 'Tuesday' 'Sunday' 'Monday' 'Thursday' 'Wednesday' 'Saturday']\n",
      "Make ['Honda' 'Chevrolet' 'Pontiac' 'Toyota' 'Mazda' 'Ford' 'Accura' 'Mercury'\n",
      " 'VW' 'Saturn' 'Dodge' 'Saab' 'BMW' 'Nisson' 'Porche' 'Ferrari' 'Jaguar'\n",
      " 'Mecedes']\n",
      "AccidentArea ['Urban' 'Rural']\n",
      "DayOfWeekClaimed ['Monday' 'Wednesday' 'Thursday' 'Tuesday' 'Friday' 'Saturday' 'Sunday'\n",
      " '0']\n",
      "MonthClaimed ['Aug' 'Dec' 'Feb' 'Jul' 'Jan' 'Jun' 'Nov' 'Oct' 'Mar' 'May' 'Sep' 'Apr'\n",
      " '0']\n",
      "WeekOfMonthClaimed [5 3 4 2 1]\n",
      "Sex ['Male' 'Female']\n",
      "MaritalStatus ['Married' 'Single' 'Divorced' 'Widow']\n",
      "Fault ['Policy Holder' 'Third Party']\n",
      "PolicyType ['Sedan - All Perils' 'Sedan - Collision' 'Sedan - Liability'\n",
      " 'Sport - Collision' 'Utility - All Perils' 'Utility - Collision'\n",
      " 'Utility - Liability' 'Sport - All Perils' 'Sport - Liability']\n",
      "VehicleCategory ['Sedan' 'Sport' 'Utility']\n",
      "VehiclePrice ['30000 to 39000' '20000 to 29000' 'less than 20000' 'more than 69000'\n",
      " '40000 to 59000' '60000 to 69000']\n",
      "FraudFound_P [0 1]\n",
      "Deductible [400 500 700 300]\n",
      "Days_Policy_Accident ['more than 30' 'none' '1 to 7' '8 to 15' '15 to 30']\n",
      "Days_Policy_Claim ['more than 30' '15 to 30' '8 to 15' 'none']\n",
      "PastNumberOfClaims ['1' '2 to 4' 'none' 'more than 4']\n",
      "AgeOfVehicle ['7 years' '5 years' '6 years' '3 years' 'more than 7' 'new' '2 years'\n",
      " '4 years']\n",
      "AgeOfPolicyHolder ['36 to 40' '31 to 35' '41 to 50' '18 to 20' '51 to 65' 'over 65'\n",
      " '26 to 30' '16 to 17' '21 to 25']\n",
      "PoliceReportFiled ['No' 'Yes']\n",
      "WitnessPresent ['No' 'Yes']\n",
      "AgentType ['External' 'Internal']\n",
      "NumberOfSuppliments ['1 to 2' 'none' 'more than 5' '3 to 5']\n",
      "AddressChange_Claim ['4 to 8 years' 'no change' '2 to 3 years' '1 year' 'under 6 months']\n",
      "NumberOfCars ['2 vehicles' '1 vehicle' '3 to 4' '5 to 8']\n",
      "Year [1994 1996 1995]\n",
      "BasePolicy ['All Perils' 'Collision' 'Liability']\n"
     ]
    }
   ],
   "source": [
    "def print_uniques(df):\n",
    "    for i in df.columns:\n",
    "        print(i, df[i].unique())\n",
    "\n",
    "print_uniques(df)"
   ]
  },
  {
   "cell_type": "code",
   "execution_count": 8,
   "id": "7d31af79",
   "metadata": {},
   "outputs": [],
   "source": [
    "# Cardinality analysis.\n",
    "#card = pd.DataFrame({\n",
    "#    \"col\"      : df.columns,\n",
    "#    \"n_unique\" : [df[c].nunique(dropna = False) for c in df.columns]\n",
    "#    }).sort_values(\"n_unique\", ascending = False)\n",
    "#card.head(20)"
   ]
  },
  {
   "cell_type": "markdown",
   "id": "28f276a4",
   "metadata": {},
   "source": [
    "# **1. Preprocessing** "
   ]
  },
  {
   "cell_type": "markdown",
   "id": "af45e8df",
   "metadata": {},
   "source": [
    "## **1.1. Absent Data**\n",
    "\n",
    ">In the categorical variables, missing values were identified in various formats, as listed in `missing_tokens` (`{\"0\", \"none\", \"None\", \"NONE\", \"NA\", \"N/A\", \"\"}`).  \n",
    ">To standardize these cases, all columns of type `object` were selected, leading and trailing whitespaces were removed, and any token present in `missing_tokens` was replaced with `np.nan`.  \n",
    ">\n",
    ">No missing values were found in columns of type `int64`.  \n",
    ">The column `FraudFound_P` contains the value `0`, but it was not modified as it is not of type `object` and therefore was not included in the replacement process."
   ]
  },
  {
   "cell_type": "code",
   "execution_count": 4,
   "id": "46790720",
   "metadata": {},
   "outputs": [],
   "source": [
    "missing_tokens = {\"0\", \"none\", \"None\", \"NONE\", \"NA\", \"N/A\", \"\"}\n",
    "\n",
    "cat_cols = df.select_dtypes(include = [\"object\"]).columns.tolist()\n",
    "for c in cat_cols:\n",
    "    df[c] = df[c].astype(str).str.strip()\n",
    "    df[c] = df[c].replace({v: np.nan for v in missing_tokens})"
   ]
  },
  {
   "cell_type": "code",
   "execution_count": 5,
   "id": "a3e96c83",
   "metadata": {},
   "outputs": [
    {
     "name": "stdout",
     "output_type": "stream",
     "text": [
      "ID ['CL00007646' 'CL00009711' 'CL00010809' ... 'CL00007097' 'CL00002875'\n",
      " 'CL00003330']\n",
      "Month ['Aug' 'Dec' 'Feb' 'Jun' 'Jan' 'Nov' 'Jul' 'May' 'Oct' 'Sep' 'Mar' 'Apr']\n",
      "WeekOfMonth [4 2 3 1 5]\n",
      "DayOfWeek ['Friday' 'Tuesday' 'Sunday' 'Monday' 'Thursday' 'Wednesday' 'Saturday']\n",
      "Make ['Honda' 'Chevrolet' 'Pontiac' 'Toyota' 'Mazda' 'Ford' 'Accura' 'Mercury'\n",
      " 'VW' 'Saturn' 'Dodge' 'Saab' 'BMW' 'Nisson' 'Porche' 'Ferrari' 'Jaguar'\n",
      " 'Mecedes']\n",
      "AccidentArea ['Urban' 'Rural']\n",
      "DayOfWeekClaimed ['Monday' 'Wednesday' 'Thursday' 'Tuesday' 'Friday' 'Saturday' 'Sunday'\n",
      " nan]\n",
      "MonthClaimed ['Aug' 'Dec' 'Feb' 'Jul' 'Jan' 'Jun' 'Nov' 'Oct' 'Mar' 'May' 'Sep' 'Apr'\n",
      " nan]\n",
      "WeekOfMonthClaimed [5 3 4 2 1]\n",
      "Sex ['Male' 'Female']\n",
      "MaritalStatus ['Married' 'Single' 'Divorced' 'Widow']\n",
      "Fault ['Policy Holder' 'Third Party']\n",
      "PolicyType ['Sedan - All Perils' 'Sedan - Collision' 'Sedan - Liability'\n",
      " 'Sport - Collision' 'Utility - All Perils' 'Utility - Collision'\n",
      " 'Utility - Liability' 'Sport - All Perils' 'Sport - Liability']\n",
      "VehicleCategory ['Sedan' 'Sport' 'Utility']\n",
      "VehiclePrice ['30000 to 39000' '20000 to 29000' 'less than 20000' 'more than 69000'\n",
      " '40000 to 59000' '60000 to 69000']\n",
      "FraudFound_P [0 1]\n",
      "Deductible [400 500 700 300]\n",
      "Days_Policy_Accident ['more than 30' nan '1 to 7' '8 to 15' '15 to 30']\n",
      "Days_Policy_Claim ['more than 30' '15 to 30' '8 to 15' nan]\n",
      "PastNumberOfClaims ['1' '2 to 4' nan 'more than 4']\n",
      "AgeOfVehicle ['7 years' '5 years' '6 years' '3 years' 'more than 7' 'new' '2 years'\n",
      " '4 years']\n",
      "AgeOfPolicyHolder ['36 to 40' '31 to 35' '41 to 50' '18 to 20' '51 to 65' 'over 65'\n",
      " '26 to 30' '16 to 17' '21 to 25']\n",
      "PoliceReportFiled ['No' 'Yes']\n",
      "WitnessPresent ['No' 'Yes']\n",
      "AgentType ['External' 'Internal']\n",
      "NumberOfSuppliments ['1 to 2' nan 'more than 5' '3 to 5']\n",
      "AddressChange_Claim ['4 to 8 years' 'no change' '2 to 3 years' '1 year' 'under 6 months']\n",
      "NumberOfCars ['2 vehicles' '1 vehicle' '3 to 4' '5 to 8']\n",
      "Year [1994 1996 1995]\n",
      "BasePolicy ['All Perils' 'Collision' 'Liability']\n"
     ]
    }
   ],
   "source": [
    "print_uniques(df)"
   ]
  },
  {
   "cell_type": "code",
   "execution_count": 7,
   "id": "32bb4c66",
   "metadata": {},
   "outputs": [
    {
     "name": "stdout",
     "output_type": "stream",
     "text": [
      "0 aparecía en: ['FraudFound_P']\n",
      "NumberOfSuppliments     2306\n",
      "PastNumberOfClaims      1444\n",
      "Days_Policy_Accident      23\n",
      "Days_Policy_Claim          1\n",
      "DayOfWeekClaimed           1\n",
      "MonthClaimed               1\n",
      "dtype: int64\n"
     ]
    }
   ],
   "source": [
    "# 1) ¿En qué columnas existía cada token?\n",
    "for tok in [\"0\",\"none\",\"NA\",\"N/A\",\"\"]:\n",
    "    cols = [c for c in df.columns if df[c].astype(str).str.strip().eq(tok).any()]\n",
    "    if cols:\n",
    "        print(tok, \"aparecía en:\", cols)\n",
    "\n",
    "# 2) ¿Cuántos NaN nuevos por columna categórica?\n",
    "import numpy as np\n",
    "cat_cols = df.select_dtypes(include=\"object\").columns\n",
    "nulls = df[cat_cols].isna().sum().sort_values(ascending=False)\n",
    "print(nulls[nulls>0].head(150))"
   ]
  },
  {
   "cell_type": "code",
   "execution_count": null,
   "id": "956ade1b",
   "metadata": {},
   "outputs": [],
   "source": [
    "# Make: corregir marcas\n",
    "make_map = {\n",
    "    \"Accura\": \"Acura\", \"Mecedes\": \"Mercedes\", \"Porche\": \"Porsche\",\n",
    "    \"Nisson\": \"Nissan\", \"VW\": \"Volkswagen\"\n",
    "}\n",
    "df[\"Make\"] = df[\"Make\"].replace(make_map)\n",
    "\n",
    "# Meses: asegurar consistencia y orden\n",
    "month_order = [\"Jan\",\"Feb\",\"Mar\",\"Apr\",\"May\",\"Jun\",\"Jul\",\"Aug\",\"Sep\",\"Oct\",\"Nov\",\"Dec\"]\n",
    "for col in [\"Month\",\"MonthClaimed\"]:\n",
    "    df[col] = pd.Categorical(df[col], categories=month_order, ordered=True)\n",
    "\n",
    "# Días: asegurar consistencia y orden\n",
    "dow_order = [\"Monday\",\"Tuesday\",\"Wednesday\",\"Thursday\",\"Friday\",\"Saturday\",\"Sunday\"]\n",
    "for col in [\"DayOfWeek\",\"DayOfWeekClaimed\"]:\n",
    "    df[col] = pd.Categorical(df[col], categories=dow_order, ordered=True)\n",
    "\n",
    "# PolicyType: normalizar espacios y guiones\n",
    "df[\"PolicyType\"] = df[\"PolicyType\"].str.replace(r\"\\s+-\\s+\", \" - \", regex=True)"
   ]
  },
  {
   "cell_type": "code",
   "execution_count": null,
   "id": "a74137a2",
   "metadata": {},
   "outputs": [],
   "source": [
    "# VehiclePrice en rangos\n",
    "price_order = [\n",
    "    \"less than 20000\",\n",
    "    \"20000 to 29000\",\n",
    "    \"30000 to 39000\",\n",
    "    \"40000 to 59000\",\n",
    "    \"60000 to 69000\",\n",
    "    \"more than 69000\",\n",
    "]\n",
    "df[\"VehiclePrice\"] = pd.Categorical(df[\"VehiclePrice\"], categories=price_order, ordered=True)\n",
    "\n",
    "# Days_Policy_Accident / Claim\n",
    "policy_span_order = [\"none\", \"1 to 7\", \"8 to 15\", \"15 to 30\", \"more than 30\"]\n",
    "for c in [\"Days_Policy_Accident\", \"Days_Policy_Claim\"]:\n",
    "    df[c] = pd.Categorical(df[c], categories=policy_span_order, ordered=True)\n",
    "\n",
    "# PastNumberOfClaims\n",
    "past_claims_order = [\"none\", \"1\", \"2 to 4\", \"more than 4\"]\n",
    "df[\"PastNumberOfClaims\"] = pd.Categorical(df[\"PastNumberOfClaims\"], categories=past_claims_order, ordered=True)\n",
    "\n",
    "# AgeOfVehicle\n",
    "age_vehicle_order = [\"new\",\"2 years\",\"3 years\",\"4 years\",\"5 years\",\"6 years\",\"7 years\",\"more than 7\"]\n",
    "df[\"AgeOfVehicle\"] = pd.Categorical(df[\"AgeOfVehicle\"], categories=age_vehicle_order, ordered=True)\n",
    "\n",
    "# AgeOfPolicyHolder\n",
    "age_holder_order = [\"16 to 17\",\"18 to 20\",\"21 to 25\",\"26 to 30\",\"31 to 35\",\"36 to 40\",\"41 to 50\",\"51 to 65\",\"over 65\"]\n",
    "df[\"AgeOfPolicyHolder\"] = pd.Categorical(df[\"AgeOfPolicyHolder\"], categories=age_holder_order, ordered=True)\n",
    "\n",
    "# NumberOfSuppliments, AddressChange_Claim, NumberOfCars\n",
    "suppl_order = [\"none\",\"1 to 2\",\"3 to 5\",\"more than 5\"]\n",
    "df[\"NumberOfSuppliments\"] = pd.Categorical(df[\"NumberOfSuppliments\"], categories=suppl_order, ordered=True)\n",
    "\n",
    "addr_change_order = [\"under 6 months\",\"1 year\",\"2 to 3 years\",\"4 to 8 years\",\"no change\"]\n",
    "df[\"AddressChange_Claim\"] = pd.Categorical(df[\"AddressChange_Claim\"], categories=addr_change_order, ordered=True)\n",
    "\n",
    "cars_order = [\"1 vehicle\",\"2 vehicles\",\"3 to 4\",\"5 to 8\"]\n",
    "df[\"NumberOfCars\"] = pd.Categorical(df[\"NumberOfCars\"], categories=cars_order, ordered=True)"
   ]
  },
  {
   "cell_type": "code",
   "execution_count": null,
   "id": "fc49ecd6",
   "metadata": {},
   "outputs": [],
   "source": [
    "dup_any = df.duplicated().sum()\n",
    "dup_id = df[\"ID\"].duplicated().sum()\n",
    "print(f\"Duplicados exactos: {dup_any} | Duplicados por ID: {dup_id}\")\n",
    "\n",
    "# si hay duplicados exactos:\n",
    "if dup_any > 0:\n",
    "    df = df.drop_duplicates().copy()"
   ]
  },
  {
   "cell_type": "code",
   "execution_count": null,
   "id": "9415de0e",
   "metadata": {},
   "outputs": [],
   "source": [
    "target = \"FraudFound_P\"\n",
    "print(df[target].value_counts(normalize=True))\n",
    "\n",
    "from sklearn.model_selection import train_test_split\n",
    "train, test = train_test_split(\n",
    "    df, test_size=0.2, random_state=SEED, stratify=df[target]\n",
    ")\n",
    "train.shape, test.shape"
   ]
  }
 ],
 "metadata": {
  "kernelspec": {
   "display_name": "Python 3",
   "language": "python",
   "name": "python3"
  },
  "language_info": {
   "codemirror_mode": {
    "name": "ipython",
    "version": 3
   },
   "file_extension": ".py",
   "mimetype": "text/x-python",
   "name": "python",
   "nbconvert_exporter": "python",
   "pygments_lexer": "ipython3",
   "version": "3.11.9"
  }
 },
 "nbformat": 4,
 "nbformat_minor": 5
}
